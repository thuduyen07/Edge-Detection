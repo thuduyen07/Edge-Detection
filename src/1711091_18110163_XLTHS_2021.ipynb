{
 "cells": [
  {
   "cell_type": "code",
   "execution_count": null,
   "id": "c2a6ef73",
   "metadata": {},
   "outputs": [],
   "source": [
    "# Install opencv\n",
    "# !pip install opencv-python"
   ]
  },
  {
   "cell_type": "code",
   "execution_count": 1,
   "id": "c5ca0231",
   "metadata": {},
   "outputs": [],
   "source": [
    "# Import libraries\n",
    "\n",
    "import numpy as np\n",
    "import cv2\n",
    "from matplotlib import pyplot as plt\n",
    "from skimage.color import rgb2gray\n",
    "from scipy import ndimage as ndi\n",
    "import pandas as pd\n",
    "import json\n",
    "import os\n",
    "import timeit\n",
    "import random"
   ]
  },
  {
   "cell_type": "code",
   "execution_count": 2,
   "id": "8d72d7ce",
   "metadata": {},
   "outputs": [],
   "source": [
    "import os\n",
    "import pandas as pd\n",
    "\n",
    "# Read files in folder\n",
    "def get_subfiles(dir):\n",
    "    \"Get a list of immediate subfiles\"\n",
    "    return next(os.walk(dir))[2]"
   ]
  },
  {
   "cell_type": "code",
   "execution_count": 3,
   "id": "df5befe3",
   "metadata": {},
   "outputs": [],
   "source": [
    "# Show Images function\n",
    "def ShowImage(ImageList, nRows = 1, nCols = 2, WidthSpace = 0.00, HeightSpace = 0.00):\n",
    "    from matplotlib import pyplot as plt\n",
    "    import matplotlib.gridspec as gridspec\n",
    "\n",
    "    gs = gridspec.GridSpec(nRows, nCols)\n",
    "    gs.update(wspace=WidthSpace, hspace=HeightSpace) # set the spacing between axes.\n",
    "    plt.figure(figsize=(20,20))\n",
    "    for i in range(len(ImageList)):\n",
    "        ax1 = plt.subplot(gs[i])\n",
    "        ax1.set_xticklabels([])\n",
    "        ax1.set_yticklabels([])\n",
    "        ax1.set_aspect('equal')\n",
    "        plt.subplot(nRows, nCols,i+1)\n",
    "        image = ImageList[i].copy()\n",
    "        if (len(image.shape) < 3):\n",
    "            plt.imshow(image, plt.cm.gray)\n",
    "        else:\n",
    "            plt.imshow(image)\n",
    "        plt.title(\"Image \" + str(i))\n",
    "        plt.axis('off')\n",
    "    plt.show()"
   ]
  },
  {
   "cell_type": "code",
   "execution_count": 4,
   "id": "1db4acf2",
   "metadata": {},
   "outputs": [],
   "source": [
    "# Resize image function\n",
    "def ResizeImage(IM, DesiredWidth, DesiredHeight):\n",
    "    from skimage.transform import rescale, resize\n",
    "\n",
    "    OrigWidth = float(IM.shape[1])\n",
    "    OrigHeight = float(IM.shape[0])\n",
    "    Width = DesiredWidth\n",
    "    Height = DesiredHeight\n",
    "\n",
    "    if ((Width == 0) & (Height == 0)):\n",
    "        return IM\n",
    "\n",
    "    if (Width == 0):\n",
    "        Width = int((OrigWidth * Height)/OrigHeight)\n",
    "\n",
    "    if (Height == 0):\n",
    "        Height = int((OrigHeight * Width)/OrigWidth)\n",
    "\n",
    "    dim = (Width, Height)\n",
    "    resizedIM = cv2.resize(IM, dim, interpolation = cv2.INTER_NEAREST)\n",
    "    \n",
    "    return resizedIM"
   ]
  },
  {
   "cell_type": "code",
   "execution_count": null,
   "id": "a39ac244",
   "metadata": {},
   "outputs": [],
   "source": [
    "# Read Color Image Dataset\n",
    "DataPath = \"C:\\\\Users\\\\ADMIN\\\\Desktop\\\\NguyenNa\\\\Image_Dataset\\\\Original_Images\\\\\"\n",
    "path = DataPath\n",
    "all_names = get_subfiles(path)\n",
    "print(\"Number of Images:\", len(all_names))\n",
    "\n",
    "IMG = []\n",
    "for i in range(len(all_names)):\n",
    "    tmp = cv2.imread(path + all_names[i])\n",
    "    IMG.append(tmp)"
   ]
  },
  {
   "cell_type": "code",
   "execution_count": null,
   "id": "5d0357f7",
   "metadata": {
    "scrolled": false
   },
   "outputs": [],
   "source": [
    "# Color images\n",
    "print('Color Images:')\n",
    "Color_Image_List = IMG.copy()\n",
    "Color_Image_Name = all_names\n",
    "\n",
    "# create folder\n",
    "color_images_path = \"C:\\\\Users\\\\ADMIN\\\\Desktop\\\\NguyenNa\\\\Image_Dataset\\\\Color_Images\\\\\"\n",
    "if not os.path.exists(color_images_path):\n",
    "    os.makedirs(color_images_path)\n",
    "\n",
    "# save color images\n",
    "for i in range(len(Color_Image_Name)):\n",
    "    print()\n",
    "    print(Color_Image_Name[i])\n",
    "    outpath = color_images_path + Color_Image_Name[i]\n",
    "    cv2.imwrite(outpath, Color_Image_List[i])    \n",
    "    ShowImage([Color_Image_List[i]], 1, 1)"
   ]
  },
  {
   "cell_type": "code",
   "execution_count": null,
   "id": "80e07520",
   "metadata": {
    "scrolled": false
   },
   "outputs": [],
   "source": [
    "# Original images\n",
    "print('Original Images:')\n",
    "Original_Image_Name = all_names\n",
    "Original_Image_List = []\n",
    "\n",
    "# create folder\n",
    "original_images_path = \"C:\\\\Users\\\\ADMIN\\\\Desktop\\\\NguyenNa\\\\Image_Dataset\\\\Original\\\\\"\n",
    "if not os.path.exists(original_images_path):\n",
    "    os.makedirs(original_images_path)\n",
    "    \n",
    "# save images\n",
    "for i in range(len(Original_Image_Name)):\n",
    "    print()\n",
    "    print(Original_Image_Name[i])\n",
    "    image = Color_Image_List[i]\n",
    "    tmp = cv2.cvtColor(image, cv2.COLOR_BGR2RGB)\n",
    "    Original_Image_List.append(tmp)\n",
    "    outpath = original_images_path + Original_Image_Name[i]\n",
    "    cv2.imwrite(outpath, Color_Image_List[i])    \n",
    "    ShowImage([Original_Image_List[i]], 1, 1)\n"
   ]
  },
  {
   "cell_type": "code",
   "execution_count": null,
   "id": "4dfc8b8b",
   "metadata": {},
   "outputs": [],
   "source": [
    "# convert to grayscale and resize images function\n",
    "def grayscale_resize (color_image_list, color_image_name, resize_para):\n",
    "    print('Grayscale Resized Images ', resize_para)\n",
    "    \n",
    "    #create folder\n",
    "    grayscaled_resized_images_path = \"C:\\\\Users\\\\ADMIN\\\\Desktop\\\\NguyenNa\\\\Image_Dataset\\\\Grayscaled_Resized_Images\\\\\"\n",
    "    if not os.path.exists(grayscaled_resized_images_path):\n",
    "        os.makedirs(grayscaled_resized_images_path)\n",
    "    \n",
    "    Gray_Resized_Image_List = []\n",
    "    Gray_Resized_Image_Name = color_image_name\n",
    "    \n",
    "    # save images\n",
    "    for i in range(len(color_image_list)):\n",
    "        resized_image = ResizeImage(color_image_list[i], DesiredWidth = resize_para, DesiredHeight = resize_para)\n",
    "        gray_resized_image = cv2.cvtColor(resized_image, cv2.COLOR_BGR2GRAY)\n",
    "        Gray_Resized_Image_List.append(gray_resized_image)\n",
    "        outpath = grayscaled_resized_images_path + Gray_Resized_Image_Name[i]\n",
    "        cv2.imwrite(outpath, Gray_Resized_Image_List[i])    \n",
    "        ShowImage([Gray_Resized_Image_List[i]], 1, 1)\n",
    "\n",
    "    return Gray_Resized_Image_List, Gray_Resized_Image_Name"
   ]
  },
  {
   "cell_type": "code",
   "execution_count": null,
   "id": "6e634212",
   "metadata": {
    "scrolled": false
   },
   "outputs": [],
   "source": [
    "# grayscaled resized 256x256 images\n",
    "Gray_Resized_Image_List_256, Gray_Resized_Image_Name_256 = grayscale_resize(Color_Image_List, Color_Image_Name, 256)"
   ]
  },
  {
   "cell_type": "code",
   "execution_count": 5,
   "id": "c38932f2",
   "metadata": {},
   "outputs": [],
   "source": [
    "# Create filters\n",
    "\n",
    "# sobel 3x3\n",
    "horizontal_sobel_3 = np.array((\n",
    "    [-1, -2, -1],\n",
    "    [0, 0, 0],\n",
    "    [1, 2, 1]),\n",
    "    dtype=\"int\")\n",
    "\n",
    "vertical_sobel_3 = np.transpose(horizontal_sobel_3)\n",
    "sobel_3 = [horizontal_sobel_3, vertical_sobel_3]\n",
    "\n",
    "# sobel 5x5\n",
    "horizontal_sobel_5 = np.array((\n",
    "    [1, 4, 6, 4, 1],\n",
    "    [2, 8, 12, 8, 2],\n",
    "    [0, 0, 0, 0, 0],\n",
    "    [-2, -8, -12, -8, -2],\n",
    "    [-1, -4, -6, -4, -1]), \n",
    "    dtype=\"int\")\n",
    "vertical_sobel_5 = np.transpose(horizontal_sobel_5)\n",
    "sobel_5 = [horizontal_sobel_5, vertical_sobel_5]\n",
    "\n",
    "# Prewitt 3x3\n",
    "horizontal_prewitt_3 = np.array((\n",
    "    [1, 1, 1],\n",
    "    [0, 0, 0],\n",
    "    [-1, -1, -1]),\n",
    "    dtype=\"int\")\n",
    "vertical_prewitt_3 = np.transpose(horizontal_prewitt_3)\n",
    "prewitt_3 = [horizontal_prewitt_3, vertical_prewitt_3]\n",
    "\n",
    "# Prewitt 5x5\n",
    "horizontal_prewitt_5 = np.array((\n",
    "    [1, 2, 3, 2, 1],\n",
    "    [1, 2, 3, 2, 1],\n",
    "    [0, 0, 0, 0, 0],\n",
    "    [-1, -2, -3, -2, -1],\n",
    "    [-1, -2, -3, -2, -1]), \n",
    "    dtype=\"int\")\n",
    "vertical_prewitt_5 = np.transpose(horizontal_prewitt_5)\n",
    "prewitt_5 = [horizontal_prewitt_5, vertical_prewitt_5]\n"
   ]
  },
  {
   "cell_type": "code",
   "execution_count": 6,
   "id": "30bb7f0b",
   "metadata": {},
   "outputs": [],
   "source": [
    "# detect edge using filter function\n",
    "def detect_edge_using_filter(image_name, image_list, filter_type, folder_name=\"Edge_Images\\\\\"):\n",
    "    print('Detect Edge using Filter')\n",
    "    \n",
    "    # input threshold\n",
    "    thresh = int(input(\"Input threshold: \"))\n",
    "    \n",
    "    # create folder\n",
    "    # edge images \n",
    "    edge_images_path = \"C:\\\\Users\\\\ADMIN\\\\Desktop\\\\NguyenNa\\\\Image_Dataset\\\\\" + folder_name\n",
    "    if not os.path.exists(edge_images_path):\n",
    "        os.makedirs(edge_images_path)\n",
    "    \n",
    "    # Threshold Binary\n",
    "    threshold_binary_images_path = \"C:\\\\Users\\\\ADMIN\\\\Desktop\\\\NguyenNa\\\\Image_Dataset\\\\\" + folder_name + \"Threshold_Binary\\\\\"\n",
    "    if not os.path.exists(threshold_binary_images_path):\n",
    "        os.makedirs(threshold_binary_images_path)\n",
    "    \n",
    "    # Threshold Binary, Inverted \n",
    "    threshold_binary_inverted_images_path = \"C:\\\\Users\\\\ADMIN\\\\Desktop\\\\NguyenNa\\\\Image_Dataset\\\\\" + folder_name + \"Threshold_Binary_Inverted\\\\\"\n",
    "    if not os.path.exists(threshold_binary_inverted_images_path):\n",
    "        os.makedirs(threshold_binary_inverted_images_path)        \n",
    "\n",
    "    # Threshold Truncate \n",
    "    threshold_truncate_images_path = \"C:\\\\Users\\\\ADMIN\\\\Desktop\\\\NguyenNa\\\\Image_Dataset\\\\\" + folder_name + \"Threshold_Truncate\\\\\"\n",
    "    if not os.path.exists(threshold_truncate_images_path):\n",
    "        os.makedirs(threshold_truncate_images_path)        \n",
    "    \n",
    "    # Threshold to zero \n",
    "    threshold_to_zero_images_path = \"C:\\\\Users\\\\ADMIN\\\\Desktop\\\\NguyenNa\\\\Image_Dataset\\\\\" + folder_name + \"Threshold_to_zero\\\\\"\n",
    "    if not os.path.exists(threshold_to_zero_images_path):\n",
    "        os.makedirs(threshold_to_zero_images_path)        \n",
    "    \n",
    "    # Threshold to zero, inverted\n",
    "    threshold_to_zero_inverted_images_path = \"C:\\\\Users\\\\ADMIN\\\\Desktop\\\\NguyenNa\\\\Image_Dataset\\\\\" + folder_name + \"Threshold_to_zero_Inverted\\\\\"\n",
    "    if not os.path.exists(threshold_to_zero_inverted_images_path):\n",
    "        os.makedirs(threshold_to_zero_inverted_images_path)        \n",
    "        \n",
    "        \n",
    "    Edge_Image_List = []\n",
    "    Edge_Image_Name = image_name\n",
    "      \n",
    "    for i in range(len(Edge_Image_Name)):\n",
    "        print(Edge_Image_Name[i])\n",
    "        image = image_list[i]\n",
    "        \n",
    "        # filter\n",
    "        horizontal_edge_image = cv2.filter2D(image, -1, filter_type[0])\n",
    "        vertical_edge_image = cv2.filter2D(image, -1, filter_type[1])\n",
    "        edge_image = horizontal_edge_image + vertical_edge_image\n",
    "        \n",
    "        Edge_Image_List.append(edge_image)\n",
    "        \n",
    "        # save edge images\n",
    "        edge_outpath = edge_images_path + Edge_Image_Name[i]\n",
    "        cv2.imwrite(edge_outpath, Edge_Image_List[i])    \n",
    "        \n",
    "        print()\n",
    "        print('Image and Filtered Image:')\n",
    "        ShowImage([image, edge_image], 1, 2)\n",
    "        \n",
    "        # threshold\n",
    "        print()\n",
    "        print('Thresholded Images')\n",
    "        \n",
    "        # threshold binary\n",
    "        print('THRESH_BINARY')        \n",
    "        ret1,thresh1 = cv2.threshold(edge_image,thresh,255,cv2.THRESH_BINARY)\n",
    "        ShowImage([edge_image, thresh1], 1, 2)\n",
    "        \n",
    "        outpath1 = threshold_binary_images_path + Edge_Image_Name[i]\n",
    "        cv2.imwrite(outpath1, thresh1)    \n",
    "        \n",
    "\n",
    "        # threshold binary, inverted\n",
    "        print()\n",
    "        print('THRESH_BINARY_INV')\n",
    "        ret2,thresh2 = cv2.threshold(edge_image,thresh,255,cv2.THRESH_BINARY_INV)\n",
    "        ShowImage([edge_image, thresh2], 1, 2)\n",
    "        \n",
    "        outpath2 = threshold_binary_inverted_images_path + Edge_Image_Name[i]\n",
    "        cv2.imwrite(outpath2, thresh2)   \n",
    "        \n",
    "        # threshold truncate\n",
    "        print()\n",
    "        print('THRESH_TRUNC')\n",
    "        ret3,thresh3 = cv2.threshold(edge_image,thresh,255,cv2.THRESH_TRUNC)\n",
    "        ShowImage([edge_image, thresh3], 1, 2)\n",
    "        \n",
    "        outpath3 = threshold_truncate_images_path + Edge_Image_Name[i]\n",
    "        cv2.imwrite(outpath3, thresh3)   \n",
    "        \n",
    "        # threshold to zero\n",
    "        print()\n",
    "        print('THRESH_TOZERO')\n",
    "        ret4,thresh4 = cv2.threshold(edge_image,thresh,255,cv2.THRESH_TOZERO)\n",
    "        ShowImage([edge_image, thresh4], 1, 2)\n",
    "        \n",
    "        outpath4 = threshold_to_zero_images_path + Edge_Image_Name[i]\n",
    "        cv2.imwrite(outpath4, thresh4)   \n",
    "        \n",
    "        # threshold to zero, inverted\n",
    "        print()\n",
    "        print('THRESH_TOZERO_INV')\n",
    "        ret5,thresh5 = cv2.threshold(edge_image,thresh,255,cv2.THRESH_TOZERO_INV)\n",
    "        ShowImage([edge_image, thresh5], 1, 2)\n",
    "        \n",
    "        outpath5 = threshold_to_zero_inverted_images_path + Edge_Image_Name[i]\n",
    "        cv2.imwrite(outpath5, thresh5)   \n",
    "        \n",
    "    return edge_image"
   ]
  },
  {
   "cell_type": "code",
   "execution_count": null,
   "id": "959db7b1",
   "metadata": {
    "scrolled": false
   },
   "outputs": [],
   "source": [
    "# Detect graycsale images 256x256 - Sobel 3x3\n",
    "detect_edge_using_filter(Gray_Resized_Image_Name_256, Gray_Resized_Image_List_256, sobel_3, \"Grayscaled_Resized_256_Images_Sobel_3\\\\\")"
   ]
  },
  {
   "cell_type": "code",
   "execution_count": null,
   "id": "71341c7a",
   "metadata": {
    "scrolled": true
   },
   "outputs": [],
   "source": [
    "# Detect graycsale images 256x256 - Sobel 5x5\n",
    "detect_edge_using_filter(Gray_Resized_Image_Name_256, Gray_Resized_Image_List_256, sobel_5, \"Grayscaled_Resized_256_Images_Sobel_5\\\\\")"
   ]
  },
  {
   "cell_type": "code",
   "execution_count": null,
   "id": "6f74cf74",
   "metadata": {},
   "outputs": [],
   "source": [
    "# Detect graycsale images 256x256 - Prewitt 3x3\n",
    "detect_edge_using_filter(Gray_Resized_Image_Name_256, Gray_Resized_Image_List_256, prewitt_3, \"Grayscaled_Resized_256_Images_Prewitt_3\\\\\")"
   ]
  },
  {
   "cell_type": "code",
   "execution_count": null,
   "id": "4d0c8d16",
   "metadata": {},
   "outputs": [],
   "source": [
    "# Detect graycsale images 256x256 - Prewitt 5x5\n",
    "detect_edge_using_filter(Gray_Resized_Image_Name_256, Gray_Resized_Image_List_256, prewitt_5, \"Grayscaled_Resized_256_Images_Prewitt_5\\\\\")"
   ]
  },
  {
   "cell_type": "code",
   "execution_count": null,
   "id": "8f3c8d0a",
   "metadata": {
    "scrolled": false
   },
   "outputs": [],
   "source": [
    "# Detect color images - Sobel 3x3\n",
    "detect_edge_using_filter(Color_Image_Name, Color_Image_List, sobel_3, \"Color_Edge_Images_Sobel_3\\\\\")"
   ]
  },
  {
   "cell_type": "code",
   "execution_count": null,
   "id": "fbb86a2d",
   "metadata": {
    "scrolled": true
   },
   "outputs": [],
   "source": [
    "# Detect color images - Sobel 5x5\n",
    "detect_edge_using_filter(Color_Image_Name, Color_Image_List, sobel_5, \"Color_Edge_Images_Sobel_5\\\\\")"
   ]
  },
  {
   "cell_type": "code",
   "execution_count": null,
   "id": "150bb523",
   "metadata": {},
   "outputs": [],
   "source": [
    "# Detect color images - Prewitt 3x3\n",
    "detect_edge_using_filter(Color_Image_Name, Color_Image_List, prewitt_3, \"Color_Edge_Images_Prewitt_3\\\\\")"
   ]
  },
  {
   "cell_type": "code",
   "execution_count": null,
   "id": "1cb3c78b",
   "metadata": {
    "scrolled": false
   },
   "outputs": [],
   "source": [
    "# Detect color images - Prewitt 5x5\n",
    "detect_edge_using_filter(Color_Image_Name, Color_Image_List, prewitt_5, \"Color_Edge_Images_Prewitt_5\\\\\")"
   ]
  },
  {
   "cell_type": "code",
   "execution_count": 7,
   "id": "442f855d",
   "metadata": {},
   "outputs": [
    {
     "name": "stdout",
     "output_type": "stream",
     "text": [
      "Number of Videos: 3\n"
     ]
    },
    {
     "data": {
      "text/plain": [
       "['0001.mp4', '0002.mp4', '0003.mp4']"
      ]
     },
     "execution_count": 7,
     "metadata": {},
     "output_type": "execute_result"
    }
   ],
   "source": [
    "# Read Video Dataset\n",
    "VideoDataPath = \"C:\\\\Users\\\\ADMIN\\\\Desktop\\\\NguyenNa\\\\Video_Dataset\\\\\"\n",
    "video_path = VideoDataPath\n",
    "video_all_names = get_subfiles(video_path)\n",
    "print(\"Number of Videos:\", len(video_all_names))\n",
    "video_all_names"
   ]
  },
  {
   "cell_type": "code",
   "execution_count": 8,
   "id": "d0907fcc",
   "metadata": {},
   "outputs": [],
   "source": [
    "# Detect video using filter\n",
    "def detect_video_using_filter (original_file_name, detected_file_name, filter_type):\n",
    "    import numpy as np\n",
    "    import cv2\n",
    "    \n",
    "    cap = cv2.VideoCapture(\"C:\\\\Users\\\\ADMIN\\\\Desktop\\\\NguyenNa\\\\Video_Dataset\\\\\" + original_file_name)\n",
    "    out = cv2.VideoWriter('C:\\\\Users\\\\ADMIN\\\\Desktop\\\\NguyenNa\\\\Video_Dataset\\\\' + detected_file_name,cv2.VideoWriter_fourcc(*'H264'), cap.get(cv2.CAP_PROP_FPS) , (int(cap.get(cv2.CAP_PROP_FRAME_WIDTH)), int(cap.get(cv2.CAP_PROP_FRAME_HEIGHT))), True)\n",
    "\n",
    "    while True:\n",
    "        ret, frame = cap.read()\n",
    "\n",
    "        if (ret==True):\n",
    "            # filter\n",
    "            horizontal_edge_frame = cv2.filter2D(frame, -1, filter_type[0])\n",
    "            vertical_edge_frame = cv2.filter2D(frame, -1, filter_type[1])\n",
    "            edge_frame = horizontal_edge_frame + vertical_edge_frame\n",
    "\n",
    "            cv2.imshow(\"Detected\", edge_frame)\n",
    "\n",
    "            out.write(edge_frame)\n",
    "\n",
    "            # Press Q on keyboard to stop recording\n",
    "            if cv2.waitKey(1) & 0xFF == ord('q'):\n",
    "                break\n",
    "\n",
    "        # Break the loop\n",
    "        else:\n",
    "            break \n",
    "\n",
    "    cap.release()\n",
    "\n",
    "    out.release()\n",
    "\n",
    "    cv2.destroyAllWindows()"
   ]
  },
  {
   "cell_type": "code",
   "execution_count": 9,
   "id": "1ae7baa9",
   "metadata": {},
   "outputs": [],
   "source": [
    "# Detect video using Sobel 3x3\n",
    "\n",
    "# create folder\n",
    "sobel_3_video_path = \"C:\\\\Users\\\\ADMIN\\\\Desktop\\\\NguyenNa\\\\Video_Dataset\\\\Sobel_3_Videos\\\\\"\n",
    "if not os.path.exists(sobel_3_video_path):\n",
    "    os.makedirs(sobel_3_video_path)\n",
    "\n",
    "# detect\n",
    "for i in range(len(video_all_names)):\n",
    "    detect_video_using_filter (video_all_names[i], 'Sobel_3_' + video_all_names[i], sobel_3)"
   ]
  },
  {
   "cell_type": "code",
   "execution_count": 10,
   "id": "6ef0cb8a",
   "metadata": {},
   "outputs": [],
   "source": [
    "# Detect video using Sobel 5x5\n",
    "\n",
    "# create folder\n",
    "sobel_5_video_path = \"C:\\\\Users\\\\ADMIN\\\\Desktop\\\\NguyenNa\\\\Video_Dataset\\\\Sobel_5_Videos\\\\\"\n",
    "if not os.path.exists(sobel_5_video_path):\n",
    "    os.makedirs(sobel_5_video_path)\n",
    "\n",
    "# detect\n",
    "for i in range(len(video_all_names)):\n",
    "    detect_video_using_filter (video_all_names[i], 'Sobel_5_' + video_all_names[i], sobel_5)"
   ]
  },
  {
   "cell_type": "code",
   "execution_count": 11,
   "id": "4f80e75d",
   "metadata": {},
   "outputs": [],
   "source": [
    "# Detect video using Prewitt 3x3\n",
    "\n",
    "# create folder\n",
    "prewitt_3_video_path = \"C:\\\\Users\\\\ADMIN\\\\Desktop\\\\NguyenNa\\\\Video_Dataset\\\\Prewitt_3_Videos\\\\\"\n",
    "if not os.path.exists(prewitt_3_video_path):\n",
    "    os.makedirs(prewitt_3_video_path)\n",
    "\n",
    "# detect\n",
    "for i in range(len(video_all_names)):\n",
    "    detect_video_using_filter (video_all_names[i], 'Prewitt_3_' + video_all_names[i], prewitt_3)\n"
   ]
  },
  {
   "cell_type": "code",
   "execution_count": null,
   "id": "7e3d94f1",
   "metadata": {},
   "outputs": [],
   "source": [
    "# Detect video using Prewitt 5x5\n",
    "\n",
    "# create folder\n",
    "prewitt_5_video_path = \"C:\\\\Users\\\\ADMIN\\\\Desktop\\\\NguyenNa\\\\Video_Dataset\\\\Prewitt_5_Videos\\\\\"\n",
    "if not os.path.exists(prewitt_5_video_path):\n",
    "    os.makedirs(prewitt_5_video_path)\n",
    "\n",
    "# detect\n",
    "for i in range(len(video_all_names)):\n",
    "    detect_video_using_filter (video_all_names[i], 'Prewitt_5_' + video_all_names[i], prewitt_5)\n"
   ]
  },
  {
   "cell_type": "code",
   "execution_count": null,
   "id": "6062e778",
   "metadata": {},
   "outputs": [],
   "source": [
    "# Detect webcam using filter function\n",
    "def detect_webcam_using_filter (original_file_name, detected_file_name, filter_type):\n",
    "    import numpy as np\n",
    "    import cv2\n",
    "\n",
    "    # Create a VideoCapture object\n",
    "    cap = cv2.VideoCapture(0)\n",
    "\n",
    "    # Create files\n",
    "    out1 = cv2.VideoWriter('C:\\\\Users\\\\ADMIN\\\\Desktop\\\\NguyenNa\\\\Video_Dataset\\\\' + original_file_name, cv2.VideoWriter_fourcc(*'H264'), cap.get(cv2.CAP_PROP_FPS) , (int(cap.get(cv2.CAP_PROP_FRAME_WIDTH)), int(cap.get(cv2.CAP_PROP_FRAME_HEIGHT))), True)\n",
    "    out2 = cv2.VideoWriter('C:\\\\Users\\\\ADMIN\\\\Desktop\\\\NguyenNa\\\\Video_Dataset\\\\' + detected_file_name, cv2.VideoWriter_fourcc(*'H264'), cap.get(cv2.CAP_PROP_FPS) , (int(cap.get(cv2.CAP_PROP_FRAME_WIDTH)), int(cap.get(cv2.CAP_PROP_FRAME_HEIGHT))), True)\n",
    "\n",
    "    # Check if camera opened successfully\n",
    "    if (cap.isOpened()==False):\n",
    "        print(\"Unable to read camera feed!\")\n",
    "\n",
    "    while True:\n",
    "        ret, frame = cap.read()\n",
    "\n",
    "        if (ret==True):\n",
    "            # filter\n",
    "            horizontal_edge_frame = cv2.filter2D(frame, -1, filter_type[0])\n",
    "            vertical_edge_frame = cv2.filter2D(frame, -1, filter_type[1])\n",
    "            edge_frame = horizontal_edge_frame + vertical_edge_frame\n",
    "\n",
    "            # Show        \n",
    "            cv2.imshow('Stream', frame)\n",
    "            cv2.imshow(\"Detected\", edge_frame)\n",
    "\n",
    "            # Save files\n",
    "            out1.write(frame)\n",
    "            out2.write(edge_frame)\n",
    "\n",
    "            # Press Q on keyboard to stop recording\n",
    "            if cv2.waitKey(1) & 0xFF == ord('q'):\n",
    "                break\n",
    "\n",
    "        # Break the loop\n",
    "        else:\n",
    "            break \n",
    "\n",
    "    cap.release()\n",
    "\n",
    "    out1.release()\n",
    "    out2.release()\n",
    "\n",
    "    cv2.destroyAllWindows()"
   ]
  },
  {
   "cell_type": "code",
   "execution_count": null,
   "id": "fb48b7ad",
   "metadata": {},
   "outputs": [],
   "source": [
    "# Detect webcam using Sobel 3x3\n",
    "\n",
    "# create folder\n",
    "sobel_3_webcam_path = \"C:\\\\Users\\\\ADMIN\\\\Desktop\\\\NguyenNa\\\\Video_Dataset\\\\Sobel_3_Webcam\\\\\"\n",
    "if not os.path.exists(sobel_3_webcam_path):\n",
    "    os.makedirs(sobel_3_webcam_path)\n",
    "\n",
    "# detect\n",
    "detect_webcam_using_filter ('Original_Video.mp4', 'Sobel_3_Detected_Video.mp4', sobel_3)"
   ]
  },
  {
   "cell_type": "code",
   "execution_count": null,
   "id": "5cbcd085",
   "metadata": {},
   "outputs": [],
   "source": [
    "# Detect webcam using Sobel 5x5\n",
    "\n",
    "# create folder\n",
    "sobel_5_webcam_path = \"C:\\\\Users\\\\ADMIN\\\\Desktop\\\\NguyenNa\\\\Video_Dataset\\\\Sobel_5_Webcam\\\\\"\n",
    "if not os.path.exists(sobel_5_webcam_path):\n",
    "    os.makedirs(sobel_5_webcam_path)\n",
    "\n",
    "# detect\n",
    "detect_webcam_using_filter ('Original_Video.mp4', 'Sobel_5_Detected_Video.mp4', sobel_5)"
   ]
  },
  {
   "cell_type": "code",
   "execution_count": null,
   "id": "4913d66c",
   "metadata": {},
   "outputs": [],
   "source": [
    "# Detect webcam using Prewitt 3x3\n",
    "\n",
    "# create folder\n",
    "prewitt_3_webcam_path = \"C:\\\\Users\\\\ADMIN\\\\Desktop\\\\NguyenNa\\\\Video_Dataset\\\\Prewitt_3_Webcam\\\\\"\n",
    "if not os.path.exists(prewitt_3_webcam_path):\n",
    "    os.makedirs(prewitt_3_webcam_path)\n",
    "\n",
    "# detect\n",
    "detect_webcam_using_filter ('Original_Video.mp4', 'Prewitt_3_Detected_Video.mp4', prewitt_3)"
   ]
  },
  {
   "cell_type": "code",
   "execution_count": null,
   "id": "7e400f24",
   "metadata": {},
   "outputs": [],
   "source": [
    "# Detect webcam using Sobel 5x5\n",
    "\n",
    "# create folder\n",
    "prewitt_5_webcam_path = \"C:\\\\Users\\\\ADMIN\\\\Desktop\\\\NguyenNa\\\\Video_Dataset\\\\Prewitt_5_Webcam\\\\\"\n",
    "if not os.path.exists(prewitt_5_webcam_path):\n",
    "    os.makedirs(prewitt_5_webcam_path)\n",
    "\n",
    "# detect\n",
    "detect_webcam_using_filter ('Original_Video.mp4', 'Prewitt_5_Detected_Video.mp4', prewitt_5)"
   ]
  },
  {
   "cell_type": "code",
   "execution_count": null,
   "id": "4f2d7453",
   "metadata": {},
   "outputs": [],
   "source": []
  }
 ],
 "metadata": {
  "kernelspec": {
   "display_name": "Python 3",
   "language": "python",
   "name": "python3"
  },
  "language_info": {
   "codemirror_mode": {
    "name": "ipython",
    "version": 3
   },
   "file_extension": ".py",
   "mimetype": "text/x-python",
   "name": "python",
   "nbconvert_exporter": "python",
   "pygments_lexer": "ipython3",
   "version": "3.8.8"
  }
 },
 "nbformat": 4,
 "nbformat_minor": 5
}
